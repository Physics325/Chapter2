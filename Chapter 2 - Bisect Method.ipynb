{
 "cells": [
  {
   "cell_type": "code",
   "execution_count": null,
   "metadata": {
    "collapsed": false
   },
   "outputs": [],
   "source": [
    "%pylab"
   ]
  },
  {
   "cell_type": "code",
   "execution_count": null,
   "metadata": {
    "collapsed": true
   },
   "outputs": [],
   "source": [
    "def rootbisection( f , a , b , tolerance=1.0e-6):\n",
    "    \"\"\"\n",
    "    Uses the bisection method to find a value x between a and b\n",
    "    for which f(x) = 0 , to within the tolerance given .\n",
    "    Default tolerance is 1.0e-6, if no tolerance is specified in\n",
    "    the function call.\n",
    "    \"\"\"\n",
    "    dx = abs (b-a ) # initial value of dx\n",
    "    while dx > tolerance: # Repeat u n t i l dx < t o l e r a n c e\n",
    "        x = ( a+b )/2.0\n",
    "        if (f(a)*f(x)) < 0 : # root is in left half\n",
    "            b = x\n",
    "        else : # root is in right half\n",
    "            a = x\n",
    "        dx = abs (b-a ) # update uncertainty in root location\n",
    "    return x,dx # answer is x +/- dx/2 (?)"
   ]
  },
  {
   "cell_type": "code",
   "execution_count": null,
   "metadata": {
    "collapsed": false
   },
   "outputs": [],
   "source": [
    "# Find the solution to x^2=10*sin(x)\n",
    "def f(x):\n",
    "    return x*x-10*sin(x)\n",
    "\n",
    "soln, uncert = rootbisection(f, 0.1, 4)\n",
    "#\n",
    "# uncertainty should be returned by rootbisection\n",
    "# Seems like we should use the last dx, not the tolerance, and uncertainty should be +/- 1/2 dx\n",
    "# (although we really don't know that the root is centered on +/- 1/2dx)\n",
    "# \n",
    "# used the magnitude of uncertainty to set formating for the answer.\n",
    "\n",
    "sigfig=str(int(abs(log10(uncert)))+1)\n",
    "sigfig2=str(int(abs(log10(uncert)))+2)\n",
    "fstring=\"Solution is {:.\"+sigfig+\"f} +/- {:.\"+sigfig2+\"f}.\"\n",
    "print(fstring.format(soln,uncert/2))"
   ]
  },
  {
   "cell_type": "code",
   "execution_count": null,
   "metadata": {
    "collapsed": false
   },
   "outputs": [],
   "source": [
    "# Or, wrap into a function:\n",
    "def find_root_bisect(function, a, b, tolerance=1.0e-6):\n",
    "    \"\"\"\n",
    "    Find the root of function using bisection\n",
    "    \n",
    "    Uncertainty is by rootbisection, using the last dx value\n",
    "    Result is printed and returned\n",
    "    \"\"\"\n",
    "    soln, uncert = rootbisection(function, 0.1, 4)\n",
    "\n",
    "    sigfig = int(abs(log10(uncert))) # find number of sig figs\n",
    "    \n",
    "    resultstring='Solution is {0:.{1}f} +/- {2:.{3}f}.'.format(soln,sigfig+1,uncert/2,sigfig+2)\n",
    "    print(resultstring)\n",
    "    return round(soln,sigfig+1),round(uncert/2,sigfig+2)"
   ]
  },
  {
   "cell_type": "code",
   "execution_count": null,
   "metadata": {
    "collapsed": false
   },
   "outputs": [],
   "source": [
    "find_root_bisect(sin,pi-0.5,pi+0.5)"
   ]
  },
  {
   "cell_type": "code",
   "execution_count": null,
   "metadata": {
    "collapsed": true
   },
   "outputs": [],
   "source": []
  }
 ],
 "metadata": {
  "kernelspec": {
   "display_name": "Python 3",
   "language": "python",
   "name": "python3"
  },
  "language_info": {
   "codemirror_mode": {
    "name": "ipython",
    "version": 3
   },
   "file_extension": ".py",
   "mimetype": "text/x-python",
   "name": "python",
   "nbconvert_exporter": "python",
   "pygments_lexer": "ipython3",
   "version": "3.5.1"
  }
 },
 "nbformat": 4,
 "nbformat_minor": 0
}
