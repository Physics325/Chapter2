{
 "cells": [
  {
   "cell_type": "markdown",
   "metadata": {},
   "source": [
    "# Integration\n",
    "Just like root-finding, there are several ways to carry out integration. First, we need to specify the problem and let's narrow it down to the case of integrating a list of values. These could be from data or from an analytic expression (we'll show how each approach looks)."
   ]
  },
  {
   "cell_type": "code",
   "execution_count": 1,
   "metadata": {
    "collapsed": false
   },
   "outputs": [
    {
     "name": "stdout",
     "output_type": "stream",
     "text": [
      "Populating the interactive namespace from numpy and matplotlib\n"
     ]
    }
   ],
   "source": [
    "%pylab inline"
   ]
  },
  {
   "cell_type": "code",
   "execution_count": 2,
   "metadata": {
    "collapsed": false
   },
   "outputs": [],
   "source": [
    "def int_simple(f,dx):\n",
    "    \"\"\"\n",
    "    Simplest integration possible , using uniform rectangular slices. Gives a rather poor result , \n",
    "    with error on the order of dx. f[] should be a list of function values at x values separated\n",
    "    by the interval dx. The limits of integration are x[0] -> x[0]+dx*len(f).\n",
    "    Note that this algorithm does not use the last point in f.\n",
    "    \"\"\"\n",
    "    return dx*sum(f[0:-1])"
   ]
  },
  {
   "cell_type": "code",
   "execution_count": 3,
   "metadata": {
    "collapsed": false
   },
   "outputs": [
    {
     "name": "stdout",
     "output_type": "stream",
     "text": [
      "The value of the integral is approximately\n",
      "1.99983216389\n"
     ]
    }
   ],
   "source": [
    "N = 100  # Number of integration points\n",
    "a = 0.0  # Starting point\n",
    "b = pi   # Ending point\n",
    "\n",
    "# Use an optional arg to linspace to get the interval it generates:\n",
    "# Compare all this to the messy list comprehensions in the book.\n",
    "x,interval = linspace(a,b,N,retstep=True)\n",
    "\n",
    "# Using arrays also makes this line much cleaner:\n",
    "FunctionValues = sin(x)\n",
    "\n",
    "print(\"The value of the integral is approximately\"),\n",
    "print(int_simple(FunctionValues, interval))"
   ]
  },
  {
   "cell_type": "markdown",
   "metadata": {},
   "source": [
    "## Built in methods:\n",
    "### Trapezoid method:\n",
    "Fit the function to a series of trapezoids that connect the points where the function intersects each slice. <img src=\"https://upload.wikimedia.org/wikipedia/commons/thumb/d/dd/Trapezoidal_rule_illustration.png/220px-Trapezoidal_rule_illustration.png\">"
   ]
  },
  {
   "cell_type": "code",
   "execution_count": 4,
   "metadata": {
    "collapsed": false
   },
   "outputs": [
    {
     "data": {
      "text/plain": [
       "[<matplotlib.lines.Line2D at 0x105cdc668>]"
      ]
     },
     "execution_count": 4,
     "metadata": {},
     "output_type": "execute_result"
    },
    {
     "data": {
      "image/png": "[encoded data removed]",
      "text/plain": [
       "<matplotlib.figure.Figure at 0x105bff198>"
      ]
     },
     "metadata": {},
     "output_type": "display_data"
    }
   ],
   "source": [
    "N = 100  # Number of integration points\n",
    "a = 0.0  # Starting point\n",
    "b = pi   # Ending point\n",
    "x,interval = linspace(a,b,N,retstep=True)\n",
    "\n",
    "y = x*x*sin(x)\n",
    "\n",
    "plot(x,y)"
   ]
  },
  {
   "cell_type": "code",
   "execution_count": 5,
   "metadata": {
    "collapsed": false
   },
   "outputs": [
    {
     "data": {
      "text/plain": [
       "5.8687761800062619"
      ]
     },
     "execution_count": 5,
     "metadata": {},
     "output_type": "execute_result"
    }
   ],
   "source": [
    "# Integrate using the trapezoidal rule\n",
    "trapz(y,x)"
   ]
  },
  {
   "cell_type": "markdown",
   "metadata": {},
   "source": [
    "### Simpson method:\n",
    "Well described in the book, fits each slice to a parabola, requires an even number of slices (odd number of points) so if that is not the case, an additional slice has to be included. The book gives the formula for the extra area and there are a variety of ways the builtin functions handle this. <img src=\"https://upload.wikimedia.org/wikipedia/commons/thumb/1/13/Simpsons_method_illustration.png/220px-Simpsons_method_illustration.png\">"
   ]
  },
  {
   "cell_type": "code",
   "execution_count": 6,
   "metadata": {
    "collapsed": true
   },
   "outputs": [],
   "source": [
    "from scipy.integrate import simps"
   ]
  },
  {
   "cell_type": "code",
   "execution_count": 7,
   "metadata": {
    "collapsed": false
   },
   "outputs": [
    {
     "data": {
      "text/plain": [
       "5.8695877050822904"
      ]
     },
     "execution_count": 7,
     "metadata": {},
     "output_type": "execute_result"
    }
   ],
   "source": [
    "# Integrate using Simpson's rule\n",
    "simps(y,x)"
   ]
  },
  {
   "cell_type": "markdown",
   "metadata": {},
   "source": [
    "Note, this didn't complain about having an even number of samples (odd number of slices) since the method handles it \"automatically\". We do have some control over how it handles the slice count. To see the difference, it helps to use fewer slices (so the effect is larger):"
   ]
  },
  {
   "cell_type": "code",
   "execution_count": 8,
   "metadata": {
    "collapsed": false
   },
   "outputs": [
    {
     "data": {
      "text/plain": [
       "[<matplotlib.lines.Line2D at 0x106519668>]"
      ]
     },
     "execution_count": 8,
     "metadata": {},
     "output_type": "execute_result"
    },
    {
     "data": {
      "image/png": "[encoded data removed]",
      "text/plain": [
       "<matplotlib.figure.Figure at 0x106385ba8>"
      ]
     },
     "metadata": {},
     "output_type": "display_data"
    }
   ],
   "source": [
    "N = 10  # Number of integration points\n",
    "a = 0.0  # Starting point\n",
    "b = pi   # Ending point\n",
    "x,interval = linspace(a,b,N,retstep=True)\n",
    "\n",
    "y = x*x*sin(x)\n",
    "\n",
    "plot(x,y,\"o\")"
   ]
  },
  {
   "cell_type": "code",
   "execution_count": 9,
   "metadata": {
    "collapsed": false
   },
   "outputs": [
    {
     "name": "stdout",
     "output_type": "stream",
     "text": [
      "5.82335790888\n",
      "5.8731047779\n",
      "5.84823134339\n"
     ]
    }
   ],
   "source": [
    "print(simps(y,x,even=\"first\")) # Use Simpson's rule for the first N-2; trapezoidal rule on the last interval.\n",
    "print(simps(y,x,even=\"last\"))  # Use Simpson's rule for the last N-2; trapezoidal rule on the first interval.\n",
    "print(simps(y,x))  # Default averages the two results above"
   ]
  },
  {
   "cell_type": "markdown",
   "metadata": {},
   "source": [
    "As the grid gets finer (i.e. larger N) this difference, and the overall error, gets smaller. How does the total accuracy of numerical integration improve with N?"
   ]
  },
  {
   "cell_type": "markdown",
   "metadata": {},
   "source": [
    "### Accuracy vs N (simps)"
   ]
  },
  {
   "cell_type": "code",
   "execution_count": 10,
   "metadata": {
    "collapsed": false
   },
   "outputs": [
    {
     "data": {
      "text/plain": [
       "<matplotlib.text.Text at 0x10654df28>"
      ]
     },
     "execution_count": 10,
     "metadata": {},
     "output_type": "execute_result"
    },
    {
     "data": {
      "image/png": "[encoded data removed]",
      "text/plain": [
       "<matplotlib.figure.Figure at 0x105d41278>"
      ]
     },
     "metadata": {},
     "output_type": "display_data"
    }
   ],
   "source": [
    "a = 0.0  # Starting point\n",
    "b = pi   # Ending point\n",
    "\n",
    "accuracy = []\n",
    "Nvals = [int(N) for N in logspace(1,3)]\n",
    "for N in Nvals:\n",
    "    x,interval = linspace(a,b,N,retstep=True)\n",
    "    y = x*x*sin(x)\n",
    "    #print(N)\n",
    "    delta = simps(y,x) - 5.86960440108936\n",
    "    #print(delta)\n",
    "    accuracy.append(abs(delta))\n",
    "    \n",
    "loglog(Nvals,accuracy,\".\")\n",
    "xlabel(\"N\")\n",
    "ylabel(\"Accuracy\")"
   ]
  },
  {
   "cell_type": "markdown",
   "metadata": {},
   "source": [
    "So the accuracy in the numerical integration of simps improves about four orders per order increase in N. The graph is bifurcated because some N values are even and some are odd. The better accuracy (lower trace) occurs for which N?"
   ]
  },
  {
   "cell_type": "markdown",
   "metadata": {},
   "source": [
    "### Accuracy vs N (trapz)"
   ]
  },
  {
   "cell_type": "code",
   "execution_count": 11,
   "metadata": {
    "collapsed": false
   },
   "outputs": [
    {
     "data": {
      "text/plain": [
       "<matplotlib.text.Text at 0x106928978>"
      ]
     },
     "execution_count": 11,
     "metadata": {},
     "output_type": "execute_result"
    },
    {
     "data": {
      "image/png": "[encoded data removed]",
      "text/plain": [
       "<matplotlib.figure.Figure at 0x1069b8128>"
      ]
     },
     "metadata": {},
     "output_type": "display_data"
    }
   ],
   "source": [
    "# Same analysis for trapz\n",
    "a = 0.0  # Starting point\n",
    "b = pi   # Ending point\n",
    "\n",
    "accuracy = []\n",
    "Nvals = [int(N) for N in logspace(1,3)]\n",
    "for N in Nvals:\n",
    "    x,interval = linspace(a,b,N,retstep=True)\n",
    "    y = x*x*sin(x)\n",
    "    #print(N)\n",
    "    delta = trapz(y,x) - 5.86960440108936\n",
    "    #print(delta)\n",
    "    accuracy.append(abs(delta))\n",
    "    \n",
    "loglog(Nvals,accuracy,\".\")\n",
    "xlabel(\"N\")\n",
    "ylabel(\"Accuracy\")"
   ]
  },
  {
   "cell_type": "markdown",
   "metadata": {},
   "source": [
    "So the accuracy in the numerical integration of trapz only improves about two orders per order increase in N. Also, the accuracy does not depend on the parity of N."
   ]
  },
  {
   "cell_type": "markdown",
   "metadata": {},
   "source": [
    "As an aside, notice that the help windows lists the file where this function is defined. That means you can go in and read the underlying code and see how it is implemented. While this is a more advanced use, it is important to realize how valuable this is. If you use MATLAB or Maple, you don't have the option of studying the code-level implementation of the functions you use."
   ]
  },
  {
   "cell_type": "code",
   "execution_count": 12,
   "metadata": {
    "collapsed": true
   },
   "outputs": [],
   "source": [
    "trapz?"
   ]
  },
  {
   "cell_type": "markdown",
   "metadata": {},
   "source": [
    "### Time trials:\n",
    "Using the `%%timeit` magic we can find the execution time of a full cell. Using this, we see that the added accuracy comes at a (small) price in runtime."
   ]
  },
  {
   "cell_type": "code",
   "execution_count": 13,
   "metadata": {
    "collapsed": true
   },
   "outputs": [],
   "source": [
    "# Go back to larger number of points to compare runtime:\n",
    "N = 100  # Number of integration points\n",
    "a = 0.0  # Starting point\n",
    "b = pi   # Ending point\n",
    "x,interval = linspace(a,b,N,retstep=True)\n",
    "y = x*x*sin(x)"
   ]
  },
  {
   "cell_type": "code",
   "execution_count": 14,
   "metadata": {
    "collapsed": false
   },
   "outputs": [
    {
     "name": "stdout",
     "output_type": "stream",
     "text": [
      "10000 loops, best of 3: 117 µs per loop\n"
     ]
    }
   ],
   "source": [
    "%%timeit\n",
    "simps(y,x)"
   ]
  },
  {
   "cell_type": "code",
   "execution_count": 15,
   "metadata": {
    "collapsed": false
   },
   "outputs": [
    {
     "name": "stdout",
     "output_type": "stream",
     "text": [
      "10000 loops, best of 3: 19.9 µs per loop\n"
     ]
    }
   ],
   "source": [
    "%%timeit\n",
    "trapz(y,x)"
   ]
  },
  {
   "cell_type": "code",
   "execution_count": null,
   "metadata": {
    "collapsed": true
   },
   "outputs": [],
   "source": []
  }
 ],
 "metadata": {
  "kernelspec": {
   "display_name": "Python 3",
   "language": "python",
   "name": "python3"
  },
  "language_info": {
   "codemirror_mode": {
    "name": "ipython",
    "version": 3
   },
   "file_extension": ".py",
   "mimetype": "text/x-python",
   "name": "python",
   "nbconvert_exporter": "python",
   "pygments_lexer": "ipython3",
   "version": "3.5.1"
  }
 },
 "nbformat": 4,
 "nbformat_minor": 0
}
