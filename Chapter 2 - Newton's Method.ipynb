{
 "cells": [
  {
   "cell_type": "code",
   "execution_count": 1,
   "metadata": {
    "collapsed": false
   },
   "outputs": [
    {
     "name": "stdout",
     "output_type": "stream",
     "text": [
      "Populating the interactive namespace from numpy and matplotlib\n"
     ]
    }
   ],
   "source": [
    "%pylab inline"
   ]
  },
  {
   "cell_type": "code",
   "execution_count": 7,
   "metadata": {
    "collapsed": true
   },
   "outputs": [],
   "source": [
    "# newton's method\n",
    "\n",
    "def rootNewton(f, df, guess, tolerance=1.0e-6):\n",
    "    dx=2*tolerance\n",
    "    x = guess\n",
    "    while dx>tolerance:\n",
    "        x1=x-f(x)/df(x)\n",
    "        dx=abs(x-x1)\n",
    "        x=x1\n",
    "    return x"
   ]
  },
  {
   "cell_type": "code",
   "execution_count": 8,
   "metadata": {
    "collapsed": false
   },
   "outputs": [
    {
     "name": "stdout",
     "output_type": "stream",
     "text": [
      "4.71238898038\n"
     ]
    }
   ],
   "source": [
    "def dcos(x):\n",
    "    return (-1)*sin(x)\n",
    "\n",
    "ans = rootNewton(cos,dcos, 0.4)\n",
    "print(ans)"
   ]
  },
  {
   "cell_type": "markdown",
   "metadata": {},
   "source": [
    "You could now write this into a nice packaged function like did for the bisect method. Or at this point, look at what already exists:"
   ]
  },
  {
   "cell_type": "code",
   "execution_count": 9,
   "metadata": {
    "collapsed": true
   },
   "outputs": [],
   "source": [
    "from scipy.optimize import newton"
   ]
  },
  {
   "cell_type": "code",
   "execution_count": 10,
   "metadata": {
    "collapsed": true
   },
   "outputs": [],
   "source": [
    "newton?"
   ]
  },
  {
   "cell_type": "markdown",
   "metadata": {},
   "source": [
    "`newton` has the following description:\n",
    "\n",
    ">Signature: newton(func, x0, fprime=None, args=(), tol=1.48e-08, maxiter=50, fprime2=None)\n",
    "\n",
    ">Docstring:\n",
    "Find a zero using the Newton-Raphson or secant method.\n",
    "\n",
    ">Find a zero of the function `func` given a nearby starting point `x0`.\n",
    "The Newton-Raphson method is used if the derivative `fprime` of `func`\n",
    "is provided, otherwise the secant method is used.  If the second order\n",
    "derivate `fprime2` of `func` is provided, parabolic Halley's method\n",
    "is used.\n",
    "\n",
    "It cleverly decides between the Newton method and the secant method (what is the secant method?)"
   ]
  },
  {
   "cell_type": "code",
   "execution_count": 11,
   "metadata": {
    "collapsed": false
   },
   "outputs": [
    {
     "data": {
      "text/plain": [
       "1.570796326794893"
      ]
     },
     "execution_count": 11,
     "metadata": {},
     "output_type": "execute_result"
    }
   ],
   "source": [
    "newton(cos,0.4) # secant method, don't provide fprime"
   ]
  },
  {
   "cell_type": "code",
   "execution_count": 12,
   "metadata": {
    "collapsed": false
   },
   "outputs": [
    {
     "data": {
      "text/plain": [
       "4.7123889803846897"
      ]
     },
     "execution_count": 12,
     "metadata": {},
     "output_type": "execute_result"
    }
   ],
   "source": [
    "newton(cos,0.4,fprime=dcos) # newton method"
   ]
  },
  {
   "cell_type": "code",
   "execution_count": 13,
   "metadata": {
    "collapsed": false
   },
   "outputs": [
    {
     "data": {
      "text/plain": [
       "[<matplotlib.lines.Line2D at 0x106cbd748>]"
      ]
     },
     "execution_count": 13,
     "metadata": {},
     "output_type": "execute_result"
    },
    {
     "data": {
      "image/png": "[encoded data removed]",
      "text/plain": [
       "<matplotlib.figure.Figure at 0x106cbd6d8>"
      ]
     },
     "metadata": {},
     "output_type": "display_data"
    }
   ],
   "source": [
    "x = linspace(0,2*pi,100)\n",
    "plot(x,cos(x))\n",
    "plot([_,__],[0,0],'ro')"
   ]
  },
  {
   "cell_type": "markdown",
   "metadata": {},
   "source": [
    "ProTip: the single \"_\" and double \"\\__\" underscore refer to the n-1 or n-2 output in the IPython history. You can use them for quickly referring to your earlier results (like `ans` on a TI calculator). This is not generally good for use in scripts or other places because it isn't readible. "
   ]
  },
  {
   "cell_type": "code",
   "execution_count": null,
   "metadata": {
    "collapsed": true
   },
   "outputs": [],
   "source": []
  }
 ],
 "metadata": {
  "kernelspec": {
   "display_name": "Python 3",
   "language": "python",
   "name": "python3"
  },
  "language_info": {
   "codemirror_mode": {
    "name": "ipython",
    "version": 3
   },
   "file_extension": ".py",
   "mimetype": "text/x-python",
   "name": "python",
   "nbconvert_exporter": "python",
   "pygments_lexer": "ipython3",
   "version": "3.5.1"
  }
 },
 "nbformat": 4,
 "nbformat_minor": 0
}
