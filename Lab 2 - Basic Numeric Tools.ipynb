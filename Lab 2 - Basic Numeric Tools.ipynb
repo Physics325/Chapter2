{
 "cells": [
  {
   "cell_type": "markdown",
   "metadata": {},
   "source": [
    "## Lab 1 - Basic Numeric Tools\n",
    "\n",
    "* give a situation that requires finding root of a function.  apply best root finder and solve.\n",
    "* give a pathological function, look for root.\n",
    "* code trapezoid rule\n",
    "* Do 2-2 (first couple of functions?).  First find soln as function of # slices.  Then find \"accuracy\", using the value found above as \"correct\" value.  Plot as in Ch. 2 Integration notebook.  Determine how accuracy scales with dx (as quoted in book).\n",
    "* Whiteboards: show how to use Taylor explansion to find eqn for 3-point and 5-point formulae for derivative.\n",
    "* write a derivative function that acts on data: calc first and second derivative (e.g. to use * to find vel and accel from position.) (e.g. 2-7&2-8)\n",
    "* examine difference between 3-pt and 5-pt routines on various functions/data?\n"
   ]
  },
  {
   "cell_type": "code",
   "execution_count": null,
   "metadata": {
    "collapsed": true
   },
   "outputs": [],
   "source": [
    "%pylab"
   ]
  },
  {
   "cell_type": "markdown",
   "metadata": {},
   "source": [
    "### Root Finding\n",
    "\n",
    "Here are a couple of situations where you can use root finding to find an answer.  Pick an appropriate root finder for each case. In a comment, explain briefly why you chose the one you did. \n",
    "\n",
    "#### Mortgage Refinance\n",
    "\n",
    "People usually borrow money from the bank to buy a house, which is called a mortgage.  When you have a mortgage you pay a fixed amount each month.  Your monthly payment was determined at the beginning of the loan, based on the borrowed amount, the length of time for the loan (eg. the number of payments), and the interest rate.  When interest rates drop during the life of a mortgage, you can \"re-finance\", which means you essentially borrow money to pay off your existing mortgage.  You then make monthly payments on the new loan. The advantage is that the new payments are lower because the interest rate is lower.  The disadvantage is that you are often charged a flat fee (\"closing costs\") to make the new loan.  So, the accumulated cost of your current mortgage is your current monthly payment times the number of months:\n",
    "\n",
    "Cost(N) = payment_old * N\n",
    "\n",
    "while the accumulated cost of the new mortgage would be your new monthly payment times the number of months *plus* the fixed closing cost:\n",
    "\n",
    "Cost_new(N) = payment_new * N + closing.\n",
    "\n",
    "Initially, Cost_new will be larger than Cost_old, because of the closing cost.  But over time, the accumulated cost of the new mortgage will be less than teh old mortgage, because of the lower monthly payments.  (Plot each of these functions to convince yourself this is true.)  For the following parameters, find your \"break even time\", the number of payments at which the new mortgage starts to be less than the old mortgage: \n",
    "* Old monthly payment = $ 2,200\n",
    "\n",
    "* New monthly payment = $ 1,600\n",
    "\n",
    "* Closing costs = $ 10,000\n"
   ]
  },
  {
   "cell_type": "code",
   "execution_count": null,
   "metadata": {
    "collapsed": true
   },
   "outputs": [],
   "source": []
  },
  {
   "cell_type": "markdown",
   "metadata": {},
   "source": [
    "#### Vertical drop with air resistance\n",
    "\n",
    "The vertical distance dropped in the presence of air resistance is given by:\n",
    "\n",
    "eqn\n",
    "\n",
    "find the time to drop 20 meters."
   ]
  },
  {
   "cell_type": "code",
   "execution_count": null,
   "metadata": {
    "collapsed": true
   },
   "outputs": [],
   "source": []
  }
 ],
 "metadata": {
  "kernelspec": {
   "display_name": "Python 3",
   "language": "python",
   "name": "python3"
  },
  "language_info": {
   "codemirror_mode": {
    "name": "ipython",
    "version": 3
   },
   "file_extension": ".py",
   "mimetype": "text/x-python",
   "name": "python",
   "nbconvert_exporter": "python",
   "pygments_lexer": "ipython3",
   "version": "3.5.1"
  }
 },
 "nbformat": 4,
 "nbformat_minor": 0
}
