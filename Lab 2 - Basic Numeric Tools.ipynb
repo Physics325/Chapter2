{
 "cells": [
  {
   "cell_type": "markdown",
   "metadata": {},
   "source": [
    "## Lab 1 - Basic Numeric Tools\n",
    "\n",
    "* give a situation that requires finding root of a function.  apply best root finder and solve.\n",
    "* give a pathological function, look for root.\n",
    "* code trapezoid rule\n",
    "* Do 2-2 (first couple of functions?).  First find soln as function of # slices.  Then find \"accuracy\", using the value found above as \"correct\" value.  Plot as in Ch. 2 Integration notebook.  Determine how accuracy scales with dx (as quoted in book).\n",
    "* Whiteboards: show how to use Taylor explansion to find eqn for 3-point and 5-point formulae for derivative.\n",
    "* write a derivative function that acts on data: calc first and second derivative (e.g. to use * to find vel and accel from position.) (e.g. 2-7&2-8)\n",
    "* examine difference between 3-pt and 5-pt routines on various functions/data?\n"
   ]
  },
  {
   "cell_type": "code",
   "execution_count": 1,
   "metadata": {
    "collapsed": false
   },
   "outputs": [
    {
     "name": "stdout",
     "output_type": "stream",
     "text": [
      "Using matplotlib backend: MacOSX\n",
      "Populating the interactive namespace from numpy and matplotlib\n"
     ]
    }
   ],
   "source": [
    "%pylab"
   ]
  },
  {
   "cell_type": "markdown",
   "metadata": {},
   "source": [
    "## Root Finding\n",
    "\n",
    "Here are a couple of situations where you can use root finding to find an answer.  Pick an appropriate root finder for each case. In a comment, explain briefly why you chose the one you did. \n",
    "\n",
    "#### Mortgage Refinance\n",
    "\n",
    "People usually borrow money from the bank to buy a house, which is called a mortgage.  When you have a mortgage you pay a fixed amount each month.  Your monthly payment was determined at the beginning of the loan, based on the borrowed amount, the length of time for the loan (eg. the number of payments), and the interest rate.  When interest rates drop during the life of a mortgage, you can \"re-finance\", which means you essentially borrow money to pay off your existing mortgage.  You then make monthly payments on the new loan. The advantage is that the new payments are lower because the interest rate is lower.  The disadvantage is that you are often charged a flat fee (\"closing costs\") to make the new loan.  So, the accumulated cost of your current mortgage is your current monthly payment times the number of months:\n",
    "\n",
    "Cost_old(N) = payment_old * N\n",
    "\n",
    "while the accumulated cost of the new mortgage would be your new monthly payment times the number of months *plus* the fixed closing cost:\n",
    "\n",
    "Cost_new(N) = payment_new * N + closing.\n",
    "\n",
    "Initially, Cost_new will be larger than Cost_old, because of the closing cost.  But over time, the accumulated cost of the new mortgage will be less than teh old mortgage, because of the lower monthly payments.  (Plot each of these functions to convince yourself this is true.)  For the following parameters, find your \"break even time\", the number of payments at which the new mortgage starts to be less than the old mortgage: \n",
    "* Old monthly payment = $ 2,200\n",
    "\n",
    "* New monthly payment = $ 1,600\n",
    "\n",
    "* Closing costs = $ 5,000\n"
   ]
  },
  {
   "cell_type": "code",
   "execution_count": 28,
   "metadata": {
    "collapsed": false
   },
   "outputs": [
    {
     "name": "stdout",
     "output_type": "stream",
     "text": [
      "break-even time: 8.333333333333332 months (Newton), 8.333333333333332 months (brentq)\n"
     ]
    },
    {
     "data": {
      "text/plain": [
       "<matplotlib.text.Annotation at 0x110310d30>"
      ]
     },
     "execution_count": 28,
     "metadata": {},
     "output_type": "execute_result"
    }
   ],
   "source": [
    "# Solution\n",
    "#\n",
    "# determine break-even time for Mortgage refinance.\n",
    "# The function to find the root of is the difference between \n",
    "# the cumulative cost of the old mortgage and the cumulative \n",
    "# cost of the new mortgage plus the fixed closing costs:\n",
    "# NetSavings = Cost_old - Cost_new\n",
    "# \n",
    "# how to pick root finder: \n",
    "#  * Could plot the two functions separately and find the root approximately,\n",
    "#  to determine bracketing start values\n",
    "#  * Could determine the derivative of the function, d (NetSavings)/dN = payment_old-payment_new\n",
    "#  use this for derivative in Newton's method.  \n",
    "#  * Could just let scipy's secant method go with one start point.\n",
    "\n",
    "# import root finders from scipy\n",
    "import scipy.optimize as opt\n",
    "\n",
    "# parameters of problem, for easy changing\n",
    "payment_old= 2200\n",
    "payment_new= 1600\n",
    "ClosingCosts = 5000\n",
    "\n",
    "# define cost functions\n",
    "def Cost_old(N):\n",
    "    return payment_old*N\n",
    "def Cost_new(N):\n",
    "    return payment_new*N+ClosingCosts\n",
    "# define function to root find\n",
    "def NetSavings(N):\n",
    "    return Cost_old(N)-Cost_new(N)\n",
    "def NetSavingsD(N):\n",
    "    return payment_old-payment_new\n",
    "\n",
    "# plot functions\n",
    "Month=[]\n",
    "OldCost=[]\n",
    "\n",
    "#Find root\n",
    "\n",
    "root_newton=opt.newton(NetSavings, 1, NetSavingsD)\n",
    "root_b=opt.brentq(NetSavings, 1, 24)\n",
    "print(\"break-even time: {} months (Newton), {} months (brentq)\".format(root_newton, root_b))\n",
    "figure()\n",
    "Month=[x for x in range(1,24)]\n",
    "OldCost=[Cost_old(x) for x in range(1,24)]\n",
    "NewCost=[Cost_new(x) for x in range(1,24)]\n",
    "plot(Month, OldCost, Month, NewCost)\n",
    "xlabel=\"Month\"\n",
    "ylabel=\"Cost\"\n",
    "ylim(0,50000)\n",
    "legend(['Old','New'],loc=4)\n",
    "ans_str=\"{:.3} months (Newton)\\n{:.3} months (brentq)\".format(root_newton, root_b)\n",
    "annotate(ans_str,xy=(3, 40000))\n"
   ]
  },
  {
   "cell_type": "markdown",
   "metadata": {},
   "source": [
    "#### Vertical drop with air resistance\n",
    "\n",
    "The vertical distance dropped in the presence of air resistance is given by:\n",
    "\n",
    "$ y = \\frac{v_{term}^2}{g} \\ln ( \\cosh ( \\frac{gt}{v_{term}} )) $\n",
    "\n",
    "where $ v_{term} = \\sqrt{g m / c}$.  For m=50 kg and c ~ 0.25,\n",
    "find the time to drop 20 meters."
   ]
  },
  {
   "cell_type": "code",
   "execution_count": 36,
   "metadata": {
    "collapsed": false
   },
   "outputs": [
    {
     "name": "stdout",
     "output_type": "stream",
     "text": [
      "v_term 44.2718872424\n",
      "Time to drop 20 meters is 2.054139154499366 seconds\n"
     ]
    }
   ],
   "source": [
    "# Solution\n",
    "#\n",
    "# this version depends on global variables\n",
    "\n",
    "# define parameters\n",
    "g=9.8\n",
    "m=50\n",
    "c=0.25\n",
    "H= 20\n",
    "\n",
    "# define functions\n",
    "def v_term(m, c=0.25, g=9.8):\n",
    "    return sqrt(g*m/c)\n",
    "\n",
    "# def y_ar(t, v_term):\n",
    "#    ans=(v_term**2/g)*log(cosh(g*t/(v_term)))\n",
    "#    return ans\n",
    "def y_ar(t):\n",
    "    ans=(v_t**2/g)*log(cosh(g*t/(v_t)))\n",
    "    return ans\n",
    "def y_ar_root(t):\n",
    "    return H-y_ar(t)\n",
    "\n",
    "# calculate v_term\n",
    "v_t=v_term(m, c)\n",
    "print(\"v_term\",v_t)\n",
    "\n",
    "# Call Newton with secant method\n",
    "time_to_drop = opt.newton(y_ar_root, 1)\n",
    "# Call brentq\n",
    "print(\"Time to drop {} meters is {} seconds\".format(H, time_to_drop))"
   ]
  },
  {
   "cell_type": "code",
   "execution_count": 38,
   "metadata": {
    "collapsed": false
   },
   "outputs": [
    {
     "name": "stdout",
     "output_type": "stream",
     "text": [
      "v_term: 44.2718872424\n",
      "Time to drop 20 meters is 2.054139154499366 seconds\n"
     ]
    }
   ],
   "source": [
    "# Solution\n",
    "# This one passes parameters into functions to protect against\n",
    "# possible collision with local variable in root-solving functions.\n",
    "#\n",
    "# define parameters\n",
    "g=9.8\n",
    "m=50\n",
    "c=0.25\n",
    "H= 20\n",
    "\n",
    "# define functions\n",
    "def v_term(m, c=0.25, g=9.8):\n",
    "    return sqrt(g*m/c)\n",
    "\n",
    "# def y_ar(t, v_term):\n",
    "#    ans=(v_term**2/g)*log(cosh(g*t/(v_term)))\n",
    "#    return ans\n",
    "def y_ar(t,m,c,g):\n",
    "    ans=(v_term(m,c,g)**2/g)*log(cosh(g*t/(v_term(m,c,g))))\n",
    "    return ans\n",
    "def y_ar_root(t,m,c,g,H):\n",
    "    return H-y_ar(t,m,c,g)\n",
    "\n",
    "# calculate v_term\n",
    "v_t=v_term(m, c)\n",
    "print(\"v_term:\",v_t)\n",
    "\n",
    "# Call Newton with secant method\n",
    "time_to_drop = opt.newton(y_ar_root, 1, args=(m,c,g,H))\n",
    "# Call brentq\n",
    "print(\"Time to drop {} meters is {} seconds\".format(H, time_to_drop))\n"
   ]
  },
  {
   "cell_type": "code",
   "execution_count": null,
   "metadata": {
    "collapsed": true
   },
   "outputs": [],
   "source": []
  },
  {
   "cell_type": "markdown",
   "metadata": {},
   "source": [
    "## Integration\n",
    "\n",
    "#### Trapezoid Method\n",
    "Begin by looking at p. 61 in the text.  Show how to get Eq. 2.6 from Eq. 2.5.\n",
    "Write a function that implements Eq. 2.6 for the trapezoid method of integration.  As in the simple integration, your function should take a list of function values and an interval dx. Test your routine on a function for which you know the integral."
   ]
  },
  {
   "cell_type": "code",
   "execution_count": 52,
   "metadata": {
    "collapsed": false
   },
   "outputs": [],
   "source": [
    "# Solution\n",
    "\"\"\"\n",
    "Function to implement the trapezoid method to calculate the integral.\n",
    "Takes a list of function values and the slice size dx.\n",
    "\"\"\"\n",
    "def int_trap(f, dx):\n",
    "#    print(\"sum = {:.2}\".format(sum(f[1:-1])))\n",
    "#    print(\"f01 = {:.2}\".format(f[0]+f[-1]))    \n",
    "    return ((f[0]+f[-1])/2+sum(f[1:-1]))*dx"
   ]
  },
  {
   "cell_type": "code",
   "execution_count": 65,
   "metadata": {
    "collapsed": false
   },
   "outputs": [
    {
     "name": "stdout",
     "output_type": "stream",
     "text": [
      "dx= 0.1, ans=22.8\n"
     ]
    }
   ],
   "source": [
    "# Solution\n",
    "# test trapezoid method integral function\n",
    "\n",
    "\n",
    "#testf=full(10,1)\n",
    "#lower and upper limits\n",
    "a=0\n",
    "b=10\n",
    "N=100   # number of slices\n",
    "dx= (b-a)/N\n",
    "# try the constant function, integrated from 0 to 1\n",
    "# testf=empty(N+1); testf.fill(2)\n",
    "# try a triangle\n",
    "#testf=[2*dx*j for j in range(N+1)]\n",
    "# try sin\n",
    "#testf=[sin(j*dx) for j in range(N+1)]\n",
    "testf = [j*dx*sin(j*dx)**2 for j in range(N+1)]\n",
    "#print(testf)\n",
    "ans=int_trap(testf,dx)\n",
    "print(\"dx= {:.4}, ans={:.4}\".format(dx, ans))"
   ]
  },
  {
   "cell_type": "markdown",
   "metadata": {},
   "source": [
    "### Comparing Integration methods: Problem 2-2\n",
    "Do problem 2-2.  It asks you to compare the simple integration, your trapezoid integration, and the built-in Simpson's methods. It asks you to explore the behavior of the method on several functions as you vary the size of dx (or number of steps N).  Probably the best way to do this is to loop over the number of steps, calculate the value of the integral, and plot the results so you can see how they vary with N.  Intuitively, we expect the value of the integral to converge to a value as we increase the number of slices.  The question asks you to determine about how many slices are needed.\n",
    "\n",
    "Once you've established what the asymptotic value of the integral (e.g. the \"true\" value), you can do what we showed in class on Wed to plot the accuracy vs. the number of slices. From these plots you can determine how the accuracy depends on N (or dx).\n",
    "\n",
    "To help you do this, go back to the \"Chapter 2 - Integration\" notebook and look at the plots of accuracy vs N for the Trapezoid and Simpson's methods.  Which increases accuracy faster?  How fast does each go -- how do we describe them in the text?  Since these are log plots, the slope tells us the *power dependence* of accuracy on N.  That is, a slope of -2 means accuracy goes as $N^{-2}$. With this knowledge, characterize how the accuracy depends on N for each integration method you use here.  Compare to what is written on p. 65 in the text."
   ]
  },
  {
   "cell_type": "code",
   "execution_count": null,
   "metadata": {
    "collapsed": true
   },
   "outputs": [],
   "source": []
  },
  {
   "cell_type": "markdown",
   "metadata": {},
   "source": [
    "## Differentiation\n",
    "\n",
    "#### Deriving the 3-point and 5-point relations for derivative\n",
    "a. On a whiteboard, write the Taylor expansion for a function $f(x)$ around $x_0$.  \n",
    "\n",
    "b. To turn this into a discrete expression, useful for working with datapoints, think of $x_0$ as $x_i$ and $x$ as $x_{i+1}$, the next value of x in the discrete set.  Translate your expression for the Taylor expansion into this notation, and simplify it using $\\Delta x = x_{i+1}-x_i$.\n",
    "\n",
    "c. Solve this expression for $f^{\\prime}$. Ignoring the terms is $\\Delta x$ and higer, this is the first order approximation to the derivative. The error we're making is all those terms we ignored, which is on the order of $\\Delta x$.\n",
    "\n",
    "d. To do better, write out the Taylor expansion in discrete form for $f(x_{i-1})$.  What you are doing now is thinking about the point *before* $x_i$. ($x_i$ is still $x_0$).\n",
    "\n",
    "e. Now, **subtract** your Taylor explansion for $f(x_{i-1})$ from the one for $f(x_{i+1})$.  Solve this expression for $f^{\\prime}$.  Now the biggest error term is proportional to $\\Delta x^2$. This is the \"3-point derivative\" formula.  (Why \"3-point\"?).\n",
    "\n",
    "f. To find the \"5-point derivative\" formula, consider the Taylor expansion for $f(x_{i\\pm 2})$, subtracting one from the other. See page 67 for the final steps, but do them on your whiteboard and confirm the final result. \n",
    "\n",
    "g. What's the advantage of the 5-point over the 3-point method?  What's a disadvantage, especially when acting on data?\n",
    "\n",
    "#### Implementing the 3-point derivative method\n",
    "\n",
    "(Problem 2-7) Write a function that, given a list of function values $f_i$ and the spacing\n",
    "$dx$ between them, returns a list of values of the first derivative of the\n",
    "function. Test your function by giving it a list of known function values\n",
    "for $\\sin(x)$ and making a graph of the differences between the output\n",
    "of the function and $\\cos(x)$."
   ]
  },
  {
   "cell_type": "code",
   "execution_count": null,
   "metadata": {
    "collapsed": true
   },
   "outputs": [],
   "source": []
  },
  {
   "cell_type": "markdown",
   "metadata": {},
   "source": [
    "(Problem 2-8) Write a function that, given a list of function values $f_i$ and the spacing\n",
    "$dx$ between them, returns a list of values of the second derivative of the\n",
    "function. Test your function by giving it a list of known function values\n",
    "for $\\sin(x)$ and making a graph of the differences between the output\n",
    "of the function and $-\\sin(x)$."
   ]
  },
  {
   "cell_type": "code",
   "execution_count": null,
   "metadata": {
    "collapsed": true
   },
   "outputs": [],
   "source": []
  },
  {
   "cell_type": "markdown",
   "metadata": {},
   "source": [
    "Use your two derivative functions to calculate velocity and acceleration from a list of time and position values (for example, from the motion detector in LoggerPro.)"
   ]
  },
  {
   "cell_type": "code",
   "execution_count": null,
   "metadata": {
    "collapsed": true
   },
   "outputs": [],
   "source": []
  }
 ],
 "metadata": {
  "kernelspec": {
   "display_name": "Python 3",
   "language": "python",
   "name": "python3"
  },
  "language_info": {
   "codemirror_mode": {
    "name": "ipython",
    "version": 3
   },
   "file_extension": ".py",
   "mimetype": "text/x-python",
   "name": "python",
   "nbconvert_exporter": "python",
   "pygments_lexer": "ipython3",
   "version": "3.5.1"
  }
 },
 "nbformat": 4,
 "nbformat_minor": 0
}
