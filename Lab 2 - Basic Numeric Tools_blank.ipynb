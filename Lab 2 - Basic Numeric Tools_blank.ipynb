{
 "metadata": {
  "kernelspec": {
   "display_name": "Python 3",
   "language": "python",
   "name": "python3"
  },
  "language_info": {
   "codemirror_mode": {
    "name": "ipython",
    "version": 3
   },
   "file_extension": ".py",
   "mimetype": "text/x-python",
   "name": "python",
   "nbconvert_exporter": "python",
   "pygments_lexer": "ipython3",
   "version": "3.5.1"
  },
  "name": ""
 },
 "nbformat": 3,
 "nbformat_minor": 0,
 "worksheets": [
  {
   "cells": [
    {
     "cell_type": "markdown",
     "metadata": {},
     "source": [
      "## Lab 1 - Basic Numeric Tools\n",
      "\n",
      "* give a situation that requires finding root of a function.  apply best root finder and solve.\n",
      "* give a pathological function, look for root.\n",
      "* code trapezoid rule\n",
      "* Do 2-2 (first couple of functions?).  First find soln as function of # slices.  Then find \"accuracy\", using the value found above as \"correct\" value.  Plot as in Ch. 2 Integration notebook.  Determine how accuracy scales with dx (as quoted in book).\n",
      "* Whiteboards: show how to use Taylor explansion to find eqn for 3-point and 5-point formulae for derivative.\n",
      "* write a derivative function that acts on data: calc first and second derivative (e.g. to use * to find vel and accel from position.) (e.g. 2-7&2-8)\n",
      "* examine difference between 3-pt and 5-pt routines on various functions/data?\n"
     ]
    },
    {
     "cell_type": "code",
     "collapsed": false,
     "input": [
      "%pylab"
     ],
     "language": "python",
     "metadata": {},
     "outputs": [
      {
       "output_type": "stream",
       "stream": "stdout",
       "text": [
        "Using matplotlib backend: MacOSX\n",
        "Populating the interactive namespace from numpy and matplotlib\n"
       ]
      }
     ],
     "prompt_number": 1
    },
    {
     "cell_type": "markdown",
     "metadata": {},
     "source": [
      "## Root Finding\n",
      "\n",
      "Here are a couple of situations where you can use root finding to find an answer.  Pick an appropriate root finder for each case. In a comment, explain briefly why you chose the one you did. \n",
      "\n",
      "#### Mortgage Refinance\n",
      "\n",
      "People usually borrow money from the bank to buy a house, which is called a mortgage.  When you have a mortgage you pay a fixed amount each month.  Your monthly payment was determined at the beginning of the loan, based on the borrowed amount, the length of time for the loan (eg. the number of payments), and the interest rate.  When interest rates drop during the life of a mortgage, you can \"re-finance\", which means you essentially borrow money to pay off your existing mortgage.  You then make monthly payments on the new loan. The advantage is that the new payments are lower because the interest rate is lower.  The disadvantage is that you are often charged a flat fee (\"closing costs\") to make the new loan.  So, the accumulated cost of your current mortgage is your current monthly payment times the number of months:\n",
      "\n",
      "Cost_old(N) = payment_old * N\n",
      "\n",
      "while the accumulated cost of the new mortgage would be your new monthly payment times the number of months *plus* the fixed closing cost:\n",
      "\n",
      "Cost_new(N) = payment_new * N + closing.\n",
      "\n",
      "Initially, Cost_new will be larger than Cost_old, because of the closing cost.  But over time, the accumulated cost of the new mortgage will be less than teh old mortgage, because of the lower monthly payments.  (Plot each of these functions to convince yourself this is true.)  For the following parameters, find your \"break even time\", the number of payments at which the new mortgage starts to be less than the old mortgage: \n",
      "* Old monthly payment = $ 2,200\n",
      "\n",
      "* New monthly payment = $ 1,600\n",
      "\n",
      "* Closing costs = $ 5,000\n"
     ]
    },
    {
     "cell_type": "code",
     "collapsed": false,
     "input": [
      "# Solution goes here"
     ],
     "language": "python",
     "metadata": {},
     "outputs": [],
     "prompt_number": 28
    },
    {
     "cell_type": "markdown",
     "metadata": {},
     "source": [
      "#### Vertical drop with air resistance\n",
      "\n",
      "The vertical distance dropped in the presence of air resistance is given by:\n",
      "\n",
      "$ y = \\frac{v_{term}^2}{g} \\ln ( \\cosh ( \\frac{gt}{v_{term}} )) $\n",
      "\n",
      "where $ v_{term} = \\sqrt{g m / c}$.  For m=50 kg and c ~ 0.25,\n",
      "find the time to drop 20 meters."
     ]
    },
    {
     "cell_type": "code",
     "collapsed": false,
     "input": [
      "# Solution goes here"
     ],
     "language": "python",
     "metadata": {},
     "outputs": [],
     "prompt_number": 36
    },
    {
     "cell_type": "code",
     "collapsed": false,
     "input": [
      "# Solution goes here"
     ],
     "language": "python",
     "metadata": {},
     "outputs": [],
     "prompt_number": 38
    },
    {
     "cell_type": "code",
     "collapsed": true,
     "input": [],
     "language": "python",
     "metadata": {},
     "outputs": [],
     "prompt_number": null
    },
    {
     "cell_type": "markdown",
     "metadata": {},
     "source": [
      "## Integration\n",
      "\n",
      "#### Trapezoid Method\n",
      "Begin by looking at p. 61 in the text.  Show how to get Eq. 2.6 from Eq. 2.5.\n",
      "Write a function that implements Eq. 2.6 for the trapezoid method of integration.  As in the simple integration, your function should take a list of function values and an interval dx. Test your routine on a function for which you know the integral."
     ]
    },
    {
     "cell_type": "code",
     "collapsed": false,
     "input": [
      "# Solution goes here"
     ],
     "language": "python",
     "metadata": {},
     "outputs": [],
     "prompt_number": 52
    },
    {
     "cell_type": "code",
     "collapsed": false,
     "input": [
      "# Solution goes here"
     ],
     "language": "python",
     "metadata": {},
     "outputs": [],
     "prompt_number": 65
    },
    {
     "cell_type": "markdown",
     "metadata": {},
     "source": [
      "### Comparing Integration methods: Problem 2-2\n",
      "Do problem 2-2.  It asks you to compare the simple integration, your trapezoid integration, and the built-in Simpson's methods. It asks you to explore the behavior of the method on several functions as you vary the size of dx (or number of steps N).  Probably the best way to do this is to loop over the number of steps, calculate the value of the integral, and plot the results so you can see how they vary with N.  Intuitively, we expect the value of the integral to converge to a value as we increase the number of slices.  The question asks you to determine about how many slices are needed.\n",
      "\n",
      "Once you've established what the asymptotic value of the integral (e.g. the \"true\" value), you can do what we showed in class on Wed to plot the accuracy vs. the number of slices. From these plots you can determine how the accuracy depends on N (or dx).\n",
      "\n",
      "To help you do this, go back to the \"Chapter 2 - Integration\" notebook and look at the plots of accuracy vs N for the Trapezoid and Simpson's methods.  Which increases accuracy faster?  How fast does each go -- how do we describe them in the text?  Since these are log plots, the slope tells us the *power dependence* of accuracy on N.  That is, a slope of -2 means accuracy goes as $N^{-2}$. With this knowledge, characterize how the accuracy depends on N for each integration method you use here.  Compare to what is written on p. 65 in the text."
     ]
    },
    {
     "cell_type": "code",
     "collapsed": true,
     "input": [],
     "language": "python",
     "metadata": {},
     "outputs": [],
     "prompt_number": null
    },
    {
     "cell_type": "markdown",
     "metadata": {},
     "source": [
      "## Differentiation\n",
      "\n",
      "#### Deriving the 3-point and 5-point relations for derivative\n",
      "a. On a whiteboard, write the Taylor expansion for a function $f(x)$ around $x_0$.  \n",
      "\n",
      "b. To turn this into a discrete expression, useful for working with datapoints, think of $x_0$ as $x_i$ and $x$ as $x_{i+1}$, the next value of x in the discrete set.  Translate your expression for the Taylor expansion into this notation, and simplify it using $\\Delta x = x_{i+1}-x_i$.\n",
      "\n",
      "c. Solve this expression for $f^{\\prime}$. Ignoring the terms is $\\Delta x$ and higer, this is the first order approximation to the derivative. The error we're making is all those terms we ignored, which is on the order of $\\Delta x$.\n",
      "\n",
      "d. To do better, write out the Taylor expansion in discrete form for $f(x_{i-1})$.  What you are doing now is thinking about the point *before* $x_i$. ($x_i$ is still $x_0$).\n",
      "\n",
      "e. Now, **subtract** your Taylor explansion for $f(x_{i-1})$ from the one for $f(x_{i+1})$.  Solve this expression for $f^{\\prime}$.  Now the biggest error term is proportional to $\\Delta x^2$. This is the \"3-point derivative\" formula.  (Why \"3-point\"?).\n",
      "\n",
      "f. To find the \"5-point derivative\" formula, consider the Taylor expansion for $f(x_{i\\pm 2})$, subtracting one from the other. See page 67 for the final steps, but do them on your whiteboard and confirm the final result. \n",
      "\n",
      "g. What's the advantage of the 5-point over the 3-point method?  What's a disadvantage, especially when acting on data?\n",
      "\n",
      "#### Implementing the 3-point derivative method\n",
      "\n",
      "(Problem 2-7) Write a function that, given a list of function values $f_i$ and the spacing\n",
      "$dx$ between them, returns a list of values of the first derivative of the\n",
      "function. Test your function by giving it a list of known function values\n",
      "for $\\sin(x)$ and making a graph of the differences between the output\n",
      "of the function and $\\cos(x)$."
     ]
    },
    {
     "cell_type": "code",
     "collapsed": true,
     "input": [],
     "language": "python",
     "metadata": {},
     "outputs": [],
     "prompt_number": null
    },
    {
     "cell_type": "markdown",
     "metadata": {},
     "source": [
      "(Problem 2-8) Write a function that, given a list of function values $f_i$ and the spacing\n",
      "$dx$ between them, returns a list of values of the second derivative of the\n",
      "function. Test your function by giving it a list of known function values\n",
      "for $\\sin(x)$ and making a graph of the differences between the output\n",
      "of the function and $-\\sin(x)$."
     ]
    },
    {
     "cell_type": "code",
     "collapsed": true,
     "input": [],
     "language": "python",
     "metadata": {},
     "outputs": [],
     "prompt_number": null
    },
    {
     "cell_type": "markdown",
     "metadata": {},
     "source": [
      "Use your two derivative functions to calculate velocity and acceleration from a list of time and position values (for example, from the motion detector in LoggerPro.)"
     ]
    },
    {
     "cell_type": "code",
     "collapsed": true,
     "input": [],
     "language": "python",
     "metadata": {},
     "outputs": [],
     "prompt_number": null
    }
   ],
   "metadata": {}
  }
 ]
}